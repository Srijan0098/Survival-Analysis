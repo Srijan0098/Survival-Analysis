{
 "cells": [
  {
   "cell_type": "markdown",
   "id": "bottom-paraguay",
   "metadata": {},
   "source": [
    "## Importing necessary libraries"
   ]
  },
  {
   "cell_type": "code",
   "execution_count": 43,
   "id": "99818957",
   "metadata": {
    "id": "99818957"
   },
   "outputs": [],
   "source": [
    "import pandas as pd\n",
    "import numpy as np\n",
    "import matplotlib.pyplot as plt\n",
    "import seaborn as sns\n",
    "from lifelines import CoxPHFitter, NelsonAalenFitter, KaplanMeierFitter\n",
    "from lifelines.utils import median_survival_times\n",
    "from lifelines.statistics import pairwise_logrank_test\n",
    "%matplotlib inline"
   ]
  },
  {
   "cell_type": "markdown",
   "id": "freelance-wealth",
   "metadata": {},
   "source": [
    "## Loading the data"
   ]
  },
  {
   "cell_type": "code",
   "execution_count": 2,
   "id": "6d4832a7",
   "metadata": {
    "colab": {
     "base_uri": "https://localhost:8080/",
     "height": 519
    },
    "id": "6d4832a7",
    "outputId": "50dd8957-ba5b-4365-bce5-1aa01b87dbc1"
   },
   "outputs": [
    {
     "data": {
      "text/html": [
       "<div>\n",
       "<style scoped>\n",
       "    .dataframe tbody tr th:only-of-type {\n",
       "        vertical-align: middle;\n",
       "    }\n",
       "\n",
       "    .dataframe tbody tr th {\n",
       "        vertical-align: top;\n",
       "    }\n",
       "\n",
       "    .dataframe thead th {\n",
       "        text-align: right;\n",
       "    }\n",
       "</style>\n",
       "<table border=\"1\" class=\"dataframe\">\n",
       "  <thead>\n",
       "    <tr style=\"text-align: right;\">\n",
       "      <th></th>\n",
       "      <th>id</th>\n",
       "      <th>treatment</th>\n",
       "      <th>number</th>\n",
       "      <th>size</th>\n",
       "      <th>recur</th>\n",
       "      <th>start</th>\n",
       "      <th>stop</th>\n",
       "      <th>status</th>\n",
       "      <th>rtumor</th>\n",
       "      <th>rsize</th>\n",
       "      <th>enum</th>\n",
       "    </tr>\n",
       "  </thead>\n",
       "  <tbody>\n",
       "    <tr>\n",
       "      <th>0</th>\n",
       "      <td>1</td>\n",
       "      <td>placebo</td>\n",
       "      <td>1</td>\n",
       "      <td>1</td>\n",
       "      <td>0</td>\n",
       "      <td>0</td>\n",
       "      <td>0</td>\n",
       "      <td>3</td>\n",
       "      <td>.</td>\n",
       "      <td>.</td>\n",
       "      <td>1</td>\n",
       "    </tr>\n",
       "    <tr>\n",
       "      <th>1</th>\n",
       "      <td>2</td>\n",
       "      <td>placebo</td>\n",
       "      <td>1</td>\n",
       "      <td>3</td>\n",
       "      <td>0</td>\n",
       "      <td>0</td>\n",
       "      <td>1</td>\n",
       "      <td>3</td>\n",
       "      <td>.</td>\n",
       "      <td>.</td>\n",
       "      <td>1</td>\n",
       "    </tr>\n",
       "    <tr>\n",
       "      <th>2</th>\n",
       "      <td>3</td>\n",
       "      <td>placebo</td>\n",
       "      <td>2</td>\n",
       "      <td>1</td>\n",
       "      <td>0</td>\n",
       "      <td>0</td>\n",
       "      <td>4</td>\n",
       "      <td>0</td>\n",
       "      <td>.</td>\n",
       "      <td>.</td>\n",
       "      <td>1</td>\n",
       "    </tr>\n",
       "    <tr>\n",
       "      <th>3</th>\n",
       "      <td>4</td>\n",
       "      <td>placebo</td>\n",
       "      <td>1</td>\n",
       "      <td>1</td>\n",
       "      <td>0</td>\n",
       "      <td>0</td>\n",
       "      <td>7</td>\n",
       "      <td>0</td>\n",
       "      <td>.</td>\n",
       "      <td>.</td>\n",
       "      <td>1</td>\n",
       "    </tr>\n",
       "    <tr>\n",
       "      <th>4</th>\n",
       "      <td>5</td>\n",
       "      <td>placebo</td>\n",
       "      <td>5</td>\n",
       "      <td>1</td>\n",
       "      <td>0</td>\n",
       "      <td>0</td>\n",
       "      <td>10</td>\n",
       "      <td>3</td>\n",
       "      <td>.</td>\n",
       "      <td>.</td>\n",
       "      <td>1</td>\n",
       "    </tr>\n",
       "    <tr>\n",
       "      <th>5</th>\n",
       "      <td>6</td>\n",
       "      <td>placebo</td>\n",
       "      <td>4</td>\n",
       "      <td>1</td>\n",
       "      <td>1</td>\n",
       "      <td>0</td>\n",
       "      <td>6</td>\n",
       "      <td>1</td>\n",
       "      <td>1</td>\n",
       "      <td>1</td>\n",
       "      <td>1</td>\n",
       "    </tr>\n",
       "    <tr>\n",
       "      <th>6</th>\n",
       "      <td>6</td>\n",
       "      <td>placebo</td>\n",
       "      <td>4</td>\n",
       "      <td>1</td>\n",
       "      <td>1</td>\n",
       "      <td>6</td>\n",
       "      <td>10</td>\n",
       "      <td>3</td>\n",
       "      <td>.</td>\n",
       "      <td>.</td>\n",
       "      <td>2</td>\n",
       "    </tr>\n",
       "    <tr>\n",
       "      <th>7</th>\n",
       "      <td>7</td>\n",
       "      <td>placebo</td>\n",
       "      <td>1</td>\n",
       "      <td>1</td>\n",
       "      <td>0</td>\n",
       "      <td>0</td>\n",
       "      <td>14</td>\n",
       "      <td>0</td>\n",
       "      <td>.</td>\n",
       "      <td>.</td>\n",
       "      <td>1</td>\n",
       "    </tr>\n",
       "    <tr>\n",
       "      <th>8</th>\n",
       "      <td>8</td>\n",
       "      <td>placebo</td>\n",
       "      <td>1</td>\n",
       "      <td>1</td>\n",
       "      <td>0</td>\n",
       "      <td>0</td>\n",
       "      <td>18</td>\n",
       "      <td>0</td>\n",
       "      <td>.</td>\n",
       "      <td>.</td>\n",
       "      <td>1</td>\n",
       "    </tr>\n",
       "    <tr>\n",
       "      <th>9</th>\n",
       "      <td>9</td>\n",
       "      <td>placebo</td>\n",
       "      <td>1</td>\n",
       "      <td>3</td>\n",
       "      <td>1</td>\n",
       "      <td>0</td>\n",
       "      <td>5</td>\n",
       "      <td>1</td>\n",
       "      <td>2</td>\n",
       "      <td>4</td>\n",
       "      <td>1</td>\n",
       "    </tr>\n",
       "    <tr>\n",
       "      <th>10</th>\n",
       "      <td>9</td>\n",
       "      <td>placebo</td>\n",
       "      <td>1</td>\n",
       "      <td>3</td>\n",
       "      <td>1</td>\n",
       "      <td>5</td>\n",
       "      <td>18</td>\n",
       "      <td>3</td>\n",
       "      <td>.</td>\n",
       "      <td>.</td>\n",
       "      <td>2</td>\n",
       "    </tr>\n",
       "    <tr>\n",
       "      <th>11</th>\n",
       "      <td>10</td>\n",
       "      <td>placebo</td>\n",
       "      <td>1</td>\n",
       "      <td>1</td>\n",
       "      <td>2</td>\n",
       "      <td>0</td>\n",
       "      <td>12</td>\n",
       "      <td>1</td>\n",
       "      <td>2</td>\n",
       "      <td>2</td>\n",
       "      <td>1</td>\n",
       "    </tr>\n",
       "    <tr>\n",
       "      <th>12</th>\n",
       "      <td>10</td>\n",
       "      <td>placebo</td>\n",
       "      <td>1</td>\n",
       "      <td>1</td>\n",
       "      <td>2</td>\n",
       "      <td>12</td>\n",
       "      <td>16</td>\n",
       "      <td>1</td>\n",
       "      <td>3</td>\n",
       "      <td>.</td>\n",
       "      <td>2</td>\n",
       "    </tr>\n",
       "    <tr>\n",
       "      <th>13</th>\n",
       "      <td>10</td>\n",
       "      <td>placebo</td>\n",
       "      <td>1</td>\n",
       "      <td>1</td>\n",
       "      <td>2</td>\n",
       "      <td>16</td>\n",
       "      <td>18</td>\n",
       "      <td>3</td>\n",
       "      <td>.</td>\n",
       "      <td>.</td>\n",
       "      <td>3</td>\n",
       "    </tr>\n",
       "    <tr>\n",
       "      <th>14</th>\n",
       "      <td>11</td>\n",
       "      <td>placebo</td>\n",
       "      <td>3</td>\n",
       "      <td>3</td>\n",
       "      <td>0</td>\n",
       "      <td>0</td>\n",
       "      <td>23</td>\n",
       "      <td>0</td>\n",
       "      <td>.</td>\n",
       "      <td>.</td>\n",
       "      <td>1</td>\n",
       "    </tr>\n",
       "  </tbody>\n",
       "</table>\n",
       "</div>"
      ],
      "text/plain": [
       "    id treatment  number  size  recur  start  stop  status rtumor rsize  enum\n",
       "0    1   placebo       1     1      0      0     0       3      .     .     1\n",
       "1    2   placebo       1     3      0      0     1       3      .     .     1\n",
       "2    3   placebo       2     1      0      0     4       0      .     .     1\n",
       "3    4   placebo       1     1      0      0     7       0      .     .     1\n",
       "4    5   placebo       5     1      0      0    10       3      .     .     1\n",
       "5    6   placebo       4     1      1      0     6       1      1     1     1\n",
       "6    6   placebo       4     1      1      6    10       3      .     .     2\n",
       "7    7   placebo       1     1      0      0    14       0      .     .     1\n",
       "8    8   placebo       1     1      0      0    18       0      .     .     1\n",
       "9    9   placebo       1     3      1      0     5       1      2     4     1\n",
       "10   9   placebo       1     3      1      5    18       3      .     .     2\n",
       "11  10   placebo       1     1      2      0    12       1      2     2     1\n",
       "12  10   placebo       1     1      2     12    16       1      3     .     2\n",
       "13  10   placebo       1     1      2     16    18       3      .     .     3\n",
       "14  11   placebo       3     3      0      0    23       0      .     .     1"
      ]
     },
     "execution_count": 2,
     "metadata": {},
     "output_type": "execute_result"
    }
   ],
   "source": [
    "df = pd.read_csv(\"Bladder_cancer.csv\")\n",
    "df.head(15)"
   ]
  },
  {
   "cell_type": "code",
   "execution_count": 3,
   "id": "bulgarian-steam",
   "metadata": {
    "id": "f04ec7e7"
   },
   "outputs": [],
   "source": [
    "# data description\n",
    "\n",
    "# id:\tPatient id\n",
    "# treatment:\tPlacebo, pyridoxine (vitamin B6), or thiotepa\n",
    "# number:\tInitial number of tumours (8=8 or more)\n",
    "# size:\tSize (cm) of largest initial tumour\n",
    "# recur:\tNumber of recurrences\n",
    "# start,stop:\tThe start and end time of each time interval\n",
    "# status:\tEnd of interval code, 0=censored, 1=recurrence,\n",
    "#                                 2=death from bladder disease, \n",
    "#                                 3=death other/unknown cause\n",
    "# rtumor:\tNumber of tumors found at the time of a recurrence\n",
    "# rsize:\tSize of largest tumor at a recurrence\n",
    "# enum:\tEvent number (observation number within patient)"
   ]
  },
  {
   "cell_type": "markdown",
   "id": "fleet-snake",
   "metadata": {},
   "source": [
    "## Data Preparation"
   ]
  },
  {
   "cell_type": "code",
   "execution_count": 4,
   "id": "5bcd3001",
   "metadata": {
    "colab": {
     "base_uri": "https://localhost:8080/",
     "height": 1000
    },
    "id": "5bcd3001",
    "outputId": "ed8cb3b4-7bfc-4eb6-a418-81b5985c5b50"
   },
   "outputs": [
    {
     "name": "stderr",
     "output_type": "stream",
     "text": [
      "/home/srijan/.local/lib/python3.8/site-packages/pandas/core/frame.py:4906: SettingWithCopyWarning: \n",
      "A value is trying to be set on a copy of a slice from a DataFrame\n",
      "\n",
      "See the caveats in the documentation: https://pandas.pydata.org/pandas-docs/stable/user_guide/indexing.html#returning-a-view-versus-a-copy\n",
      "  return super().drop(\n",
      "/home/srijan/.local/lib/python3.8/site-packages/pandas/core/series.py:1056: SettingWithCopyWarning: \n",
      "A value is trying to be set on a copy of a slice from a DataFrame\n",
      "\n",
      "See the caveats in the documentation: https://pandas.pydata.org/pandas-docs/stable/user_guide/indexing.html#returning-a-view-versus-a-copy\n",
      "  cacher_needs_updating = self._check_is_chained_assignment_possible()\n",
      "/home/srijan/.local/lib/python3.8/site-packages/pandas/core/indexing.py:1724: SettingWithCopyWarning: \n",
      "A value is trying to be set on a copy of a slice from a DataFrame\n",
      "\n",
      "See the caveats in the documentation: https://pandas.pydata.org/pandas-docs/stable/user_guide/indexing.html#returning-a-view-versus-a-copy\n",
      "  self._setitem_with_indexer_missing(indexer, value)\n"
     ]
    },
    {
     "data": {
      "text/html": [
       "<div>\n",
       "<style scoped>\n",
       "    .dataframe tbody tr th:only-of-type {\n",
       "        vertical-align: middle;\n",
       "    }\n",
       "\n",
       "    .dataframe tbody tr th {\n",
       "        vertical-align: top;\n",
       "    }\n",
       "\n",
       "    .dataframe thead th {\n",
       "        text-align: right;\n",
       "    }\n",
       "</style>\n",
       "<table border=\"1\" class=\"dataframe\">\n",
       "  <thead>\n",
       "    <tr style=\"text-align: right;\">\n",
       "      <th></th>\n",
       "      <th>id</th>\n",
       "      <th>treatment</th>\n",
       "      <th>number</th>\n",
       "      <th>size</th>\n",
       "      <th>rtumor</th>\n",
       "      <th>rsize</th>\n",
       "      <th>Tis</th>\n",
       "    </tr>\n",
       "  </thead>\n",
       "  <tbody>\n",
       "    <tr>\n",
       "      <th>0</th>\n",
       "      <td>1</td>\n",
       "      <td>placebo</td>\n",
       "      <td>1</td>\n",
       "      <td>1</td>\n",
       "      <td>[.]</td>\n",
       "      <td>[.]</td>\n",
       "      <td>[(0, 3)]</td>\n",
       "    </tr>\n",
       "    <tr>\n",
       "      <th>1</th>\n",
       "      <td>2</td>\n",
       "      <td>placebo</td>\n",
       "      <td>1</td>\n",
       "      <td>3</td>\n",
       "      <td>[.]</td>\n",
       "      <td>[.]</td>\n",
       "      <td>[(1, 3)]</td>\n",
       "    </tr>\n",
       "    <tr>\n",
       "      <th>2</th>\n",
       "      <td>3</td>\n",
       "      <td>placebo</td>\n",
       "      <td>2</td>\n",
       "      <td>1</td>\n",
       "      <td>[.]</td>\n",
       "      <td>[.]</td>\n",
       "      <td>[(4, 0)]</td>\n",
       "    </tr>\n",
       "    <tr>\n",
       "      <th>3</th>\n",
       "      <td>4</td>\n",
       "      <td>placebo</td>\n",
       "      <td>1</td>\n",
       "      <td>1</td>\n",
       "      <td>[.]</td>\n",
       "      <td>[.]</td>\n",
       "      <td>[(7, 0)]</td>\n",
       "    </tr>\n",
       "    <tr>\n",
       "      <th>4</th>\n",
       "      <td>5</td>\n",
       "      <td>placebo</td>\n",
       "      <td>5</td>\n",
       "      <td>1</td>\n",
       "      <td>[.]</td>\n",
       "      <td>[.]</td>\n",
       "      <td>[(10, 3)]</td>\n",
       "    </tr>\n",
       "    <tr>\n",
       "      <th>5</th>\n",
       "      <td>6</td>\n",
       "      <td>placebo</td>\n",
       "      <td>4</td>\n",
       "      <td>1</td>\n",
       "      <td>[1, .]</td>\n",
       "      <td>[1, .]</td>\n",
       "      <td>[(6, 1), (4, 3)]</td>\n",
       "    </tr>\n",
       "    <tr>\n",
       "      <th>6</th>\n",
       "      <td>7</td>\n",
       "      <td>placebo</td>\n",
       "      <td>1</td>\n",
       "      <td>1</td>\n",
       "      <td>[.]</td>\n",
       "      <td>[.]</td>\n",
       "      <td>[(14, 0)]</td>\n",
       "    </tr>\n",
       "    <tr>\n",
       "      <th>7</th>\n",
       "      <td>8</td>\n",
       "      <td>placebo</td>\n",
       "      <td>1</td>\n",
       "      <td>1</td>\n",
       "      <td>[.]</td>\n",
       "      <td>[.]</td>\n",
       "      <td>[(18, 0)]</td>\n",
       "    </tr>\n",
       "    <tr>\n",
       "      <th>8</th>\n",
       "      <td>9</td>\n",
       "      <td>placebo</td>\n",
       "      <td>1</td>\n",
       "      <td>3</td>\n",
       "      <td>[2, .]</td>\n",
       "      <td>[4, .]</td>\n",
       "      <td>[(5, 1), (13, 3)]</td>\n",
       "    </tr>\n",
       "    <tr>\n",
       "      <th>9</th>\n",
       "      <td>10</td>\n",
       "      <td>placebo</td>\n",
       "      <td>1</td>\n",
       "      <td>1</td>\n",
       "      <td>[2, 3, .]</td>\n",
       "      <td>[2, ., .]</td>\n",
       "      <td>[(12, 1), (4, 1), (2, 3)]</td>\n",
       "    </tr>\n",
       "  </tbody>\n",
       "</table>\n",
       "</div>"
      ],
      "text/plain": [
       "   id treatment number size     rtumor      rsize                        Tis\n",
       "0   1   placebo      1    1        [.]        [.]                   [(0, 3)]\n",
       "1   2   placebo      1    3        [.]        [.]                   [(1, 3)]\n",
       "2   3   placebo      2    1        [.]        [.]                   [(4, 0)]\n",
       "3   4   placebo      1    1        [.]        [.]                   [(7, 0)]\n",
       "4   5   placebo      5    1        [.]        [.]                  [(10, 3)]\n",
       "5   6   placebo      4    1     [1, .]     [1, .]           [(6, 1), (4, 3)]\n",
       "6   7   placebo      1    1        [.]        [.]                  [(14, 0)]\n",
       "7   8   placebo      1    1        [.]        [.]                  [(18, 0)]\n",
       "8   9   placebo      1    3     [2, .]     [4, .]          [(5, 1), (13, 3)]\n",
       "9  10   placebo      1    1  [2, 3, .]  [2, ., .]  [(12, 1), (4, 1), (2, 3)]"
      ]
     },
     "execution_count": 4,
     "metadata": {},
     "output_type": "execute_result"
    }
   ],
   "source": [
    "# preparing the data: (recurring time in months, delta_i)\n",
    "\n",
    "mother_df = pd.DataFrame()\n",
    "for i in df[\"id\"]:\n",
    "    #if i in recurrent_ids:\n",
    "    dummy = df[df['id']==i]\n",
    "    status = dummy['status']\n",
    "    enum = dummy['enum']\n",
    "    diff = dummy['stop'] - dummy['start']\n",
    "    dummy.drop(['status','enum',\"start\",\"stop\",\"recur\"],axis=1,inplace=True)\n",
    "    dummy1 = dummy.iloc[0,]\n",
    "    dummy1[\"Tis\"] = list(zip(diff.values,status.values))\n",
    "    dummy1[\"rtumor\"] = list(dummy[\"rtumor\"].values)\n",
    "    dummy1[\"rsize\"] = list(dummy[\"rsize\"].values)\n",
    "\n",
    "    #print(dummy1)\n",
    "    mother_df = pd.concat([mother_df,dummy1],axis=1)\n",
    "    #display(mother_df)\n",
    "    #break\n",
    "        \n",
    "mother_df = mother_df.transpose()\n",
    "mother_df.drop_duplicates(subset=['id'],inplace=True)\n",
    "mother_df.reset_index(inplace=True)\n",
    "mother_df.drop(\"index\",axis=1,inplace=True)\n",
    "\n",
    "mother_df.head(10)"
   ]
  },
  {
   "cell_type": "markdown",
   "id": "signed-double",
   "metadata": {},
   "source": [
    "## Seperating the data into two groups : \n",
    "\n",
    "- first group (118 unique patients, with only their first event times)\n",
    "- second group (118 patients with all recurrence times, to be used for frailty modelling) "
   ]
  },
  {
   "cell_type": "markdown",
   "id": "soviet-avatar",
   "metadata": {},
   "source": [
    "In this notebook hereafter, we have worked with the first group only."
   ]
  },
  {
   "cell_type": "markdown",
   "id": "627e037d",
   "metadata": {
    "id": "627e037d"
   },
   "source": [
    "## First Group"
   ]
  },
  {
   "cell_type": "code",
   "execution_count": 7,
   "id": "a9f89f5c",
   "metadata": {
    "colab": {
     "base_uri": "https://localhost:8080/",
     "height": 363
    },
    "id": "a9f89f5c",
    "outputId": "d57d6220-fc65-4406-e0a0-c24833eb5b17",
    "scrolled": true
   },
   "outputs": [
    {
     "data": {
      "text/html": [
       "<div>\n",
       "<style scoped>\n",
       "    .dataframe tbody tr th:only-of-type {\n",
       "        vertical-align: middle;\n",
       "    }\n",
       "\n",
       "    .dataframe tbody tr th {\n",
       "        vertical-align: top;\n",
       "    }\n",
       "\n",
       "    .dataframe thead th {\n",
       "        text-align: right;\n",
       "    }\n",
       "</style>\n",
       "<table border=\"1\" class=\"dataframe\">\n",
       "  <thead>\n",
       "    <tr style=\"text-align: right;\">\n",
       "      <th></th>\n",
       "      <th>id</th>\n",
       "      <th>treatment</th>\n",
       "      <th>number</th>\n",
       "      <th>size</th>\n",
       "      <th>rtumor</th>\n",
       "      <th>rsize</th>\n",
       "      <th>Tis</th>\n",
       "      <th>time_to_first_event</th>\n",
       "      <th>time_to_death</th>\n",
       "      <th>delta</th>\n",
       "      <th>No_of_recurrences</th>\n",
       "      <th>treatment2</th>\n",
       "    </tr>\n",
       "  </thead>\n",
       "  <tbody>\n",
       "    <tr>\n",
       "      <th>0</th>\n",
       "      <td>1</td>\n",
       "      <td>placebo</td>\n",
       "      <td>1</td>\n",
       "      <td>1</td>\n",
       "      <td>[.]</td>\n",
       "      <td>[.]</td>\n",
       "      <td>[(0, 3)]</td>\n",
       "      <td>0</td>\n",
       "      <td>0</td>\n",
       "      <td>0</td>\n",
       "      <td>0</td>\n",
       "      <td>placebo</td>\n",
       "    </tr>\n",
       "    <tr>\n",
       "      <th>1</th>\n",
       "      <td>2</td>\n",
       "      <td>placebo</td>\n",
       "      <td>1</td>\n",
       "      <td>3</td>\n",
       "      <td>[.]</td>\n",
       "      <td>[.]</td>\n",
       "      <td>[(1, 3)]</td>\n",
       "      <td>1</td>\n",
       "      <td>1</td>\n",
       "      <td>0</td>\n",
       "      <td>0</td>\n",
       "      <td>placebo</td>\n",
       "    </tr>\n",
       "    <tr>\n",
       "      <th>2</th>\n",
       "      <td>3</td>\n",
       "      <td>placebo</td>\n",
       "      <td>2</td>\n",
       "      <td>1</td>\n",
       "      <td>[.]</td>\n",
       "      <td>[.]</td>\n",
       "      <td>[(4, 0)]</td>\n",
       "      <td>4</td>\n",
       "      <td>4</td>\n",
       "      <td>0</td>\n",
       "      <td>0</td>\n",
       "      <td>placebo</td>\n",
       "    </tr>\n",
       "    <tr>\n",
       "      <th>3</th>\n",
       "      <td>4</td>\n",
       "      <td>placebo</td>\n",
       "      <td>1</td>\n",
       "      <td>1</td>\n",
       "      <td>[.]</td>\n",
       "      <td>[.]</td>\n",
       "      <td>[(7, 0)]</td>\n",
       "      <td>7</td>\n",
       "      <td>7</td>\n",
       "      <td>0</td>\n",
       "      <td>0</td>\n",
       "      <td>placebo</td>\n",
       "    </tr>\n",
       "    <tr>\n",
       "      <th>4</th>\n",
       "      <td>5</td>\n",
       "      <td>placebo</td>\n",
       "      <td>5</td>\n",
       "      <td>1</td>\n",
       "      <td>[.]</td>\n",
       "      <td>[.]</td>\n",
       "      <td>[(10, 3)]</td>\n",
       "      <td>10</td>\n",
       "      <td>10</td>\n",
       "      <td>0</td>\n",
       "      <td>0</td>\n",
       "      <td>placebo</td>\n",
       "    </tr>\n",
       "    <tr>\n",
       "      <th>5</th>\n",
       "      <td>6</td>\n",
       "      <td>placebo</td>\n",
       "      <td>4</td>\n",
       "      <td>1</td>\n",
       "      <td>[1, .]</td>\n",
       "      <td>[1, .]</td>\n",
       "      <td>[(6, 1), (4, 3)]</td>\n",
       "      <td>6</td>\n",
       "      <td>10</td>\n",
       "      <td>1</td>\n",
       "      <td>1</td>\n",
       "      <td>placebo</td>\n",
       "    </tr>\n",
       "    <tr>\n",
       "      <th>6</th>\n",
       "      <td>7</td>\n",
       "      <td>placebo</td>\n",
       "      <td>1</td>\n",
       "      <td>1</td>\n",
       "      <td>[.]</td>\n",
       "      <td>[.]</td>\n",
       "      <td>[(14, 0)]</td>\n",
       "      <td>14</td>\n",
       "      <td>14</td>\n",
       "      <td>0</td>\n",
       "      <td>0</td>\n",
       "      <td>placebo</td>\n",
       "    </tr>\n",
       "    <tr>\n",
       "      <th>7</th>\n",
       "      <td>8</td>\n",
       "      <td>placebo</td>\n",
       "      <td>1</td>\n",
       "      <td>1</td>\n",
       "      <td>[.]</td>\n",
       "      <td>[.]</td>\n",
       "      <td>[(18, 0)]</td>\n",
       "      <td>18</td>\n",
       "      <td>18</td>\n",
       "      <td>0</td>\n",
       "      <td>0</td>\n",
       "      <td>placebo</td>\n",
       "    </tr>\n",
       "    <tr>\n",
       "      <th>8</th>\n",
       "      <td>9</td>\n",
       "      <td>placebo</td>\n",
       "      <td>1</td>\n",
       "      <td>3</td>\n",
       "      <td>[2, .]</td>\n",
       "      <td>[4, .]</td>\n",
       "      <td>[(5, 1), (13, 3)]</td>\n",
       "      <td>5</td>\n",
       "      <td>18</td>\n",
       "      <td>1</td>\n",
       "      <td>1</td>\n",
       "      <td>placebo</td>\n",
       "    </tr>\n",
       "    <tr>\n",
       "      <th>9</th>\n",
       "      <td>10</td>\n",
       "      <td>placebo</td>\n",
       "      <td>1</td>\n",
       "      <td>1</td>\n",
       "      <td>[2, 3, .]</td>\n",
       "      <td>[2, ., .]</td>\n",
       "      <td>[(12, 1), (4, 1), (2, 3)]</td>\n",
       "      <td>12</td>\n",
       "      <td>18</td>\n",
       "      <td>1</td>\n",
       "      <td>2</td>\n",
       "      <td>placebo</td>\n",
       "    </tr>\n",
       "  </tbody>\n",
       "</table>\n",
       "</div>"
      ],
      "text/plain": [
       "   id treatment number size     rtumor      rsize                        Tis  \\\n",
       "0   1   placebo      1    1        [.]        [.]                   [(0, 3)]   \n",
       "1   2   placebo      1    3        [.]        [.]                   [(1, 3)]   \n",
       "2   3   placebo      2    1        [.]        [.]                   [(4, 0)]   \n",
       "3   4   placebo      1    1        [.]        [.]                   [(7, 0)]   \n",
       "4   5   placebo      5    1        [.]        [.]                  [(10, 3)]   \n",
       "5   6   placebo      4    1     [1, .]     [1, .]           [(6, 1), (4, 3)]   \n",
       "6   7   placebo      1    1        [.]        [.]                  [(14, 0)]   \n",
       "7   8   placebo      1    1        [.]        [.]                  [(18, 0)]   \n",
       "8   9   placebo      1    3     [2, .]     [4, .]          [(5, 1), (13, 3)]   \n",
       "9  10   placebo      1    1  [2, 3, .]  [2, ., .]  [(12, 1), (4, 1), (2, 3)]   \n",
       "\n",
       "   time_to_first_event  time_to_death  delta  No_of_recurrences treatment2  \n",
       "0                    0              0      0                  0    placebo  \n",
       "1                    1              1      0                  0    placebo  \n",
       "2                    4              4      0                  0    placebo  \n",
       "3                    7              7      0                  0    placebo  \n",
       "4                   10             10      0                  0    placebo  \n",
       "5                    6             10      1                  1    placebo  \n",
       "6                   14             14      0                  0    placebo  \n",
       "7                   18             18      0                  0    placebo  \n",
       "8                    5             18      1                  1    placebo  \n",
       "9                   12             18      1                  2    placebo  "
      ]
     },
     "execution_count": 7,
     "metadata": {},
     "output_type": "execute_result"
    }
   ],
   "source": [
    "first_group = mother_df\n",
    "first_group.head(10)"
   ]
  },
  {
   "cell_type": "code",
   "execution_count": 8,
   "id": "iS3HaG4AFVUs",
   "metadata": {
    "id": "iS3HaG4AFVUs"
   },
   "outputs": [],
   "source": [
    "# feature engineering\n",
    "\n",
    "first_group[\"time_to_first_event\"] = first_group[\"Tis\"].apply(lambda x: x[0][0])\n",
    "first_group[\"time_to_death\"] = first_group[\"Tis\"].apply(lambda x: sum([i[0] for i in x]))\n",
    "first_group[\"delta\"] = first_group[\"Tis\"].apply(lambda x: int(x[0][1] in [2,1]))  # censored or not indentifier\n",
    "first_group[\"No_of_recurrences\"] = first_group[\"Tis\"].apply(lambda x: len(x)-1)\n",
    "first_group[\"treatment2\"] = first_group[\"treatment\"].apply(lambda x: 'placebo' if x=='placebo' else 'non-placebo')"
   ]
  },
  {
   "cell_type": "markdown",
   "id": "jscaRcKbaEIy",
   "metadata": {
    "id": "jscaRcKbaEIy"
   },
   "source": [
    "### Preprocessing"
   ]
  },
  {
   "cell_type": "code",
   "execution_count": 9,
   "id": "qhMjIy46NT1F",
   "metadata": {
    "colab": {
     "base_uri": "https://localhost:8080/"
    },
    "id": "qhMjIy46NT1F",
    "outputId": "e9f62bf6-7583-44ea-ddb4-9c9da21d4a7d"
   },
   "outputs": [
    {
     "data": {
      "text/plain": [
       "0                        ([1], [1])\n",
       "1                        ([1], [3])\n",
       "2                        ([2], [1])\n",
       "3                        ([1], [1])\n",
       "4                        ([5], [1])\n",
       "                   ...             \n",
       "113                      ([1], [1])\n",
       "114    ([1, 1, 1, .], [1, 1, ., .])\n",
       "115                      ([3], [4])\n",
       "116                ([2, .], [1, .])\n",
       "117                      ([1], [3])\n",
       "Length: 118, dtype: object"
      ]
     },
     "execution_count": 9,
     "metadata": {},
     "output_type": "execute_result"
    }
   ],
   "source": [
    "def f1(x):\n",
    "  if x[\"rtumor\"][0]=='.':\n",
    "    x[\"rtumor\"][0]=x[\"number\"]\n",
    "  if x[\"rsize\"][0]=='.':\n",
    "    x[\"rsize\"][0]=x[\"size\"]  \n",
    "  return x[\"rtumor\"],x[\"rsize\"]\n",
    "\n",
    "first_group.apply(f1,axis=1)"
   ]
  },
  {
   "cell_type": "code",
   "execution_count": 10,
   "id": "d6db615a",
   "metadata": {
    "colab": {
     "base_uri": "https://localhost:8080/",
     "height": 519
    },
    "id": "d6db615a",
    "outputId": "921d07b4-f9a2-476b-f2e7-97bd8c65756d"
   },
   "outputs": [
    {
     "data": {
      "text/html": [
       "<div>\n",
       "<style scoped>\n",
       "    .dataframe tbody tr th:only-of-type {\n",
       "        vertical-align: middle;\n",
       "    }\n",
       "\n",
       "    .dataframe tbody tr th {\n",
       "        vertical-align: top;\n",
       "    }\n",
       "\n",
       "    .dataframe thead th {\n",
       "        text-align: right;\n",
       "    }\n",
       "</style>\n",
       "<table border=\"1\" class=\"dataframe\">\n",
       "  <thead>\n",
       "    <tr style=\"text-align: right;\">\n",
       "      <th></th>\n",
       "      <th>id</th>\n",
       "      <th>treatment</th>\n",
       "      <th>number</th>\n",
       "      <th>size</th>\n",
       "      <th>rtumor</th>\n",
       "      <th>rsize</th>\n",
       "      <th>Tis</th>\n",
       "      <th>time_to_first_event</th>\n",
       "      <th>time_to_death</th>\n",
       "      <th>delta</th>\n",
       "      <th>No_of_recurrences</th>\n",
       "      <th>treatment2</th>\n",
       "    </tr>\n",
       "  </thead>\n",
       "  <tbody>\n",
       "    <tr>\n",
       "      <th>0</th>\n",
       "      <td>1</td>\n",
       "      <td>placebo</td>\n",
       "      <td>1</td>\n",
       "      <td>1</td>\n",
       "      <td>[1]</td>\n",
       "      <td>[1]</td>\n",
       "      <td>[(0, 3)]</td>\n",
       "      <td>0</td>\n",
       "      <td>0</td>\n",
       "      <td>0</td>\n",
       "      <td>0</td>\n",
       "      <td>placebo</td>\n",
       "    </tr>\n",
       "    <tr>\n",
       "      <th>1</th>\n",
       "      <td>2</td>\n",
       "      <td>placebo</td>\n",
       "      <td>1</td>\n",
       "      <td>3</td>\n",
       "      <td>[1]</td>\n",
       "      <td>[3]</td>\n",
       "      <td>[(1, 3)]</td>\n",
       "      <td>1</td>\n",
       "      <td>1</td>\n",
       "      <td>0</td>\n",
       "      <td>0</td>\n",
       "      <td>placebo</td>\n",
       "    </tr>\n",
       "    <tr>\n",
       "      <th>2</th>\n",
       "      <td>3</td>\n",
       "      <td>placebo</td>\n",
       "      <td>2</td>\n",
       "      <td>1</td>\n",
       "      <td>[2]</td>\n",
       "      <td>[1]</td>\n",
       "      <td>[(4, 0)]</td>\n",
       "      <td>4</td>\n",
       "      <td>4</td>\n",
       "      <td>0</td>\n",
       "      <td>0</td>\n",
       "      <td>placebo</td>\n",
       "    </tr>\n",
       "    <tr>\n",
       "      <th>3</th>\n",
       "      <td>4</td>\n",
       "      <td>placebo</td>\n",
       "      <td>1</td>\n",
       "      <td>1</td>\n",
       "      <td>[1]</td>\n",
       "      <td>[1]</td>\n",
       "      <td>[(7, 0)]</td>\n",
       "      <td>7</td>\n",
       "      <td>7</td>\n",
       "      <td>0</td>\n",
       "      <td>0</td>\n",
       "      <td>placebo</td>\n",
       "    </tr>\n",
       "    <tr>\n",
       "      <th>4</th>\n",
       "      <td>5</td>\n",
       "      <td>placebo</td>\n",
       "      <td>5</td>\n",
       "      <td>1</td>\n",
       "      <td>[5]</td>\n",
       "      <td>[1]</td>\n",
       "      <td>[(10, 3)]</td>\n",
       "      <td>10</td>\n",
       "      <td>10</td>\n",
       "      <td>0</td>\n",
       "      <td>0</td>\n",
       "      <td>placebo</td>\n",
       "    </tr>\n",
       "    <tr>\n",
       "      <th>5</th>\n",
       "      <td>6</td>\n",
       "      <td>placebo</td>\n",
       "      <td>4</td>\n",
       "      <td>1</td>\n",
       "      <td>[1, .]</td>\n",
       "      <td>[1, .]</td>\n",
       "      <td>[(6, 1), (4, 3)]</td>\n",
       "      <td>6</td>\n",
       "      <td>10</td>\n",
       "      <td>1</td>\n",
       "      <td>1</td>\n",
       "      <td>placebo</td>\n",
       "    </tr>\n",
       "    <tr>\n",
       "      <th>6</th>\n",
       "      <td>7</td>\n",
       "      <td>placebo</td>\n",
       "      <td>1</td>\n",
       "      <td>1</td>\n",
       "      <td>[1]</td>\n",
       "      <td>[1]</td>\n",
       "      <td>[(14, 0)]</td>\n",
       "      <td>14</td>\n",
       "      <td>14</td>\n",
       "      <td>0</td>\n",
       "      <td>0</td>\n",
       "      <td>placebo</td>\n",
       "    </tr>\n",
       "    <tr>\n",
       "      <th>7</th>\n",
       "      <td>8</td>\n",
       "      <td>placebo</td>\n",
       "      <td>1</td>\n",
       "      <td>1</td>\n",
       "      <td>[1]</td>\n",
       "      <td>[1]</td>\n",
       "      <td>[(18, 0)]</td>\n",
       "      <td>18</td>\n",
       "      <td>18</td>\n",
       "      <td>0</td>\n",
       "      <td>0</td>\n",
       "      <td>placebo</td>\n",
       "    </tr>\n",
       "    <tr>\n",
       "      <th>8</th>\n",
       "      <td>9</td>\n",
       "      <td>placebo</td>\n",
       "      <td>1</td>\n",
       "      <td>3</td>\n",
       "      <td>[2, .]</td>\n",
       "      <td>[4, .]</td>\n",
       "      <td>[(5, 1), (13, 3)]</td>\n",
       "      <td>5</td>\n",
       "      <td>18</td>\n",
       "      <td>1</td>\n",
       "      <td>1</td>\n",
       "      <td>placebo</td>\n",
       "    </tr>\n",
       "    <tr>\n",
       "      <th>9</th>\n",
       "      <td>10</td>\n",
       "      <td>placebo</td>\n",
       "      <td>1</td>\n",
       "      <td>1</td>\n",
       "      <td>[2, 3, .]</td>\n",
       "      <td>[2, ., .]</td>\n",
       "      <td>[(12, 1), (4, 1), (2, 3)]</td>\n",
       "      <td>12</td>\n",
       "      <td>18</td>\n",
       "      <td>1</td>\n",
       "      <td>2</td>\n",
       "      <td>placebo</td>\n",
       "    </tr>\n",
       "    <tr>\n",
       "      <th>10</th>\n",
       "      <td>11</td>\n",
       "      <td>placebo</td>\n",
       "      <td>3</td>\n",
       "      <td>3</td>\n",
       "      <td>[3]</td>\n",
       "      <td>[3]</td>\n",
       "      <td>[(23, 0)]</td>\n",
       "      <td>23</td>\n",
       "      <td>23</td>\n",
       "      <td>0</td>\n",
       "      <td>0</td>\n",
       "      <td>placebo</td>\n",
       "    </tr>\n",
       "    <tr>\n",
       "      <th>11</th>\n",
       "      <td>12</td>\n",
       "      <td>placebo</td>\n",
       "      <td>1</td>\n",
       "      <td>3</td>\n",
       "      <td>[6, 3, .]</td>\n",
       "      <td>[1, 1, .]</td>\n",
       "      <td>[(10, 1), (5, 1), (8, 0)]</td>\n",
       "      <td>10</td>\n",
       "      <td>23</td>\n",
       "      <td>1</td>\n",
       "      <td>2</td>\n",
       "      <td>placebo</td>\n",
       "    </tr>\n",
       "    <tr>\n",
       "      <th>12</th>\n",
       "      <td>13</td>\n",
       "      <td>placebo</td>\n",
       "      <td>1</td>\n",
       "      <td>1</td>\n",
       "      <td>[8, 8, 8]</td>\n",
       "      <td>[1, ., .]</td>\n",
       "      <td>[(3, 1), (13, 1), (7, 1)]</td>\n",
       "      <td>3</td>\n",
       "      <td>23</td>\n",
       "      <td>1</td>\n",
       "      <td>2</td>\n",
       "      <td>placebo</td>\n",
       "    </tr>\n",
       "    <tr>\n",
       "      <th>13</th>\n",
       "      <td>14</td>\n",
       "      <td>placebo</td>\n",
       "      <td>3</td>\n",
       "      <td>1</td>\n",
       "      <td>[1, 1, 8, .]</td>\n",
       "      <td>[1, 2, 8, .]</td>\n",
       "      <td>[(3, 1), (6, 1), (12, 1), (2, 2)]</td>\n",
       "      <td>3</td>\n",
       "      <td>23</td>\n",
       "      <td>1</td>\n",
       "      <td>3</td>\n",
       "      <td>placebo</td>\n",
       "    </tr>\n",
       "    <tr>\n",
       "      <th>14</th>\n",
       "      <td>15</td>\n",
       "      <td>placebo</td>\n",
       "      <td>2</td>\n",
       "      <td>3</td>\n",
       "      <td>[8, 7, 5, 7]</td>\n",
       "      <td>[2, 1, 3, .]</td>\n",
       "      <td>[(7, 1), (3, 1), (6, 1), (8, 1)]</td>\n",
       "      <td>7</td>\n",
       "      <td>24</td>\n",
       "      <td>1</td>\n",
       "      <td>3</td>\n",
       "      <td>placebo</td>\n",
       "    </tr>\n",
       "  </tbody>\n",
       "</table>\n",
       "</div>"
      ],
      "text/plain": [
       "    id treatment number size        rtumor         rsize  \\\n",
       "0    1   placebo      1    1           [1]           [1]   \n",
       "1    2   placebo      1    3           [1]           [3]   \n",
       "2    3   placebo      2    1           [2]           [1]   \n",
       "3    4   placebo      1    1           [1]           [1]   \n",
       "4    5   placebo      5    1           [5]           [1]   \n",
       "5    6   placebo      4    1        [1, .]        [1, .]   \n",
       "6    7   placebo      1    1           [1]           [1]   \n",
       "7    8   placebo      1    1           [1]           [1]   \n",
       "8    9   placebo      1    3        [2, .]        [4, .]   \n",
       "9   10   placebo      1    1     [2, 3, .]     [2, ., .]   \n",
       "10  11   placebo      3    3           [3]           [3]   \n",
       "11  12   placebo      1    3     [6, 3, .]     [1, 1, .]   \n",
       "12  13   placebo      1    1     [8, 8, 8]     [1, ., .]   \n",
       "13  14   placebo      3    1  [1, 1, 8, .]  [1, 2, 8, .]   \n",
       "14  15   placebo      2    3  [8, 7, 5, 7]  [2, 1, 3, .]   \n",
       "\n",
       "                                  Tis  time_to_first_event  time_to_death  \\\n",
       "0                            [(0, 3)]                    0              0   \n",
       "1                            [(1, 3)]                    1              1   \n",
       "2                            [(4, 0)]                    4              4   \n",
       "3                            [(7, 0)]                    7              7   \n",
       "4                           [(10, 3)]                   10             10   \n",
       "5                    [(6, 1), (4, 3)]                    6             10   \n",
       "6                           [(14, 0)]                   14             14   \n",
       "7                           [(18, 0)]                   18             18   \n",
       "8                   [(5, 1), (13, 3)]                    5             18   \n",
       "9           [(12, 1), (4, 1), (2, 3)]                   12             18   \n",
       "10                          [(23, 0)]                   23             23   \n",
       "11          [(10, 1), (5, 1), (8, 0)]                   10             23   \n",
       "12          [(3, 1), (13, 1), (7, 1)]                    3             23   \n",
       "13  [(3, 1), (6, 1), (12, 1), (2, 2)]                    3             23   \n",
       "14   [(7, 1), (3, 1), (6, 1), (8, 1)]                    7             24   \n",
       "\n",
       "    delta  No_of_recurrences treatment2  \n",
       "0       0                  0    placebo  \n",
       "1       0                  0    placebo  \n",
       "2       0                  0    placebo  \n",
       "3       0                  0    placebo  \n",
       "4       0                  0    placebo  \n",
       "5       1                  1    placebo  \n",
       "6       0                  0    placebo  \n",
       "7       0                  0    placebo  \n",
       "8       1                  1    placebo  \n",
       "9       1                  2    placebo  \n",
       "10      0                  0    placebo  \n",
       "11      1                  2    placebo  \n",
       "12      1                  2    placebo  \n",
       "13      1                  3    placebo  \n",
       "14      1                  3    placebo  "
      ]
     },
     "execution_count": 10,
     "metadata": {},
     "output_type": "execute_result"
    }
   ],
   "source": [
    "first_group.head(15)"
   ]
  },
  {
   "cell_type": "code",
   "execution_count": 11,
   "id": "settled-happiness",
   "metadata": {},
   "outputs": [
    {
     "data": {
      "text/plain": [
       "placebo       48\n",
       "pyridoxine    32\n",
       "thiotepa      38\n",
       "Name: treatment, dtype: int64"
      ]
     },
     "execution_count": 11,
     "metadata": {},
     "output_type": "execute_result"
    }
   ],
   "source": [
    "first_group['treatment'].value_counts().sort_index(ascending=True)"
   ]
  },
  {
   "cell_type": "markdown",
   "id": "swiss-trailer",
   "metadata": {},
   "source": [
    "## Basic EDA"
   ]
  },
  {
   "cell_type": "code",
   "execution_count": 12,
   "id": "original-bulgaria",
   "metadata": {},
   "outputs": [
    {
     "data": {
      "text/plain": [
       "([<matplotlib.patches.Wedge at 0x7f0ebdf68760>,\n",
       "  <matplotlib.patches.Wedge at 0x7f0ebdf684f0>],\n",
       " [Text(-0.08776463606753102, 1.096493214140395, 'Observed'),\n",
       "  Text(0.08776453340642627, -1.0964932223575083, 'Censored')])"
      ]
     },
     "execution_count": 12,
     "metadata": {},
     "output_type": "execute_result"
    },
    {
     "data": {
      "image/png": "[encoded data removed]",
      "text/plain": [
       "<Figure size 432x288 with 1 Axes>"
      ]
     },
     "metadata": {},
     "output_type": "display_data"
    }
   ],
   "source": [
    "plt.pie(first_group['delta'].value_counts(), labels = ['Observed','Censored'],shadow=True)"
   ]
  },
  {
   "cell_type": "code",
   "execution_count": 13,
   "id": "atmospheric-console",
   "metadata": {},
   "outputs": [
    {
     "name": "stderr",
     "output_type": "stream",
     "text": [
      "/home/srijan/.local/lib/python3.8/site-packages/seaborn/_decorators.py:36: FutureWarning: Pass the following variables as keyword args: x, y. From version 0.12, the only valid positional argument will be `data`, and passing other arguments without an explicit keyword will result in an error or misinterpretation.\n",
      "  warnings.warn(\n"
     ]
    },
    {
     "data": {
      "text/plain": [
       "Text(0, 0.5, 'Count')"
      ]
     },
     "execution_count": 13,
     "metadata": {},
     "output_type": "execute_result"
    },
    {
     "data": {
      "image/png": "[encoded data removed]",
      "text/plain": [
       "<Figure size 432x288 with 1 Axes>"
      ]
     },
     "metadata": {
      "needs_background": "light"
     },
     "output_type": "display_data"
    }
   ],
   "source": [
    "sns.barplot(first_group['treatment'].value_counts().sort_index(ascending=True).index,\n",
    "            first_group['treatment'].value_counts().sort_index(ascending=True))\n",
    "plt.xlabel(\"Treatment\",size=15)\n",
    "plt.ylabel(\"Count\",size=15)"
   ]
  },
  {
   "cell_type": "code",
   "execution_count": 14,
   "id": "medical-small",
   "metadata": {},
   "outputs": [
    {
     "data": {
      "text/plain": [
       "Text(0.5, 1.0, 'Number of recurrences w.r.t treatments')"
      ]
     },
     "execution_count": 14,
     "metadata": {},
     "output_type": "execute_result"
    },
    {
     "data": {
      "image/png": "[encoded data removed]",
      "text/plain": [
       "<Figure size 576x576 with 1 Axes>"
      ]
     },
     "metadata": {
      "needs_background": "light"
     },
     "output_type": "display_data"
    }
   ],
   "source": [
    "plt.figure(figsize=(8,8))\n",
    "sns.boxplot(x=\"treatment\", y=\"No_of_recurrences\", data=first_group)\n",
    "plt.xlabel('Treatment',size = 15)\n",
    "plt.ylabel('Number of recurrences',size = 15)\n",
    "plt.title('Number of recurrences w.r.t treatments',size = 15)"
   ]
  },
  {
   "cell_type": "code",
   "execution_count": 15,
   "id": "dynamic-relay",
   "metadata": {},
   "outputs": [
    {
     "data": {
      "text/plain": [
       "Text(0.5, 1.0, 'Number of tumours w.r.t treatments')"
      ]
     },
     "execution_count": 15,
     "metadata": {},
     "output_type": "execute_result"
    },
    {
     "data": {
      "image/png": "[encoded data removed]",
      "text/plain": [
       "<Figure size 576x576 with 1 Axes>"
      ]
     },
     "metadata": {
      "needs_background": "light"
     },
     "output_type": "display_data"
    }
   ],
   "source": [
    "plt.figure(figsize=(8,8))\n",
    "sns.boxplot(x=\"treatment\", y=\"number\", data=first_group)\n",
    "plt.xlabel('Treatment',size = 15)\n",
    "plt.ylabel('Number of tumours',size = 15)\n",
    "plt.title('Number of tumours w.r.t treatments',size = 15)"
   ]
  },
  {
   "cell_type": "code",
   "execution_count": 16,
   "id": "characteristic-lobby",
   "metadata": {},
   "outputs": [
    {
     "data": {
      "text/plain": [
       "placebo       48\n",
       "thiotepa      38\n",
       "pyridoxine    32\n",
       "Name: treatment, dtype: int64"
      ]
     },
     "execution_count": 16,
     "metadata": {},
     "output_type": "execute_result"
    }
   ],
   "source": [
    "first_group[\"treatment\"].value_counts()"
   ]
  },
  {
   "cell_type": "code",
   "execution_count": 17,
   "id": "addressed-affect",
   "metadata": {
    "colab": {
     "base_uri": "https://localhost:8080/"
    },
    "id": "addressed-affect",
    "outputId": "c241490c-d0b9-446b-f4b2-c027e915c58f"
   },
   "outputs": [
    {
     "data": {
      "text/plain": [
       "64"
      ]
     },
     "execution_count": 17,
     "metadata": {},
     "output_type": "execute_result"
    }
   ],
   "source": [
    "# max time to death in first group\n",
    "\n",
    "first_group.time_to_death.max()"
   ]
  },
  {
   "cell_type": "code",
   "execution_count": 18,
   "id": "introductory-vegetarian",
   "metadata": {},
   "outputs": [
    {
     "data": {
      "text/plain": [
       "Text(0, 0.5, 'Count')"
      ]
     },
     "execution_count": 18,
     "metadata": {},
     "output_type": "execute_result"
    },
    {
     "data": {
      "image/png": "[encoded data removed]",
      "text/plain": [
       "<Figure size 720x504 with 1 Axes>"
      ]
     },
     "metadata": {},
     "output_type": "display_data"
    }
   ],
   "source": [
    "sns.set(style=\"white\")\n",
    "plt.figure(figsize=(10,7))\n",
    "sns.countplot(data=first_group, x='No_of_recurrences',hue='treatment2')\n",
    "plt.legend(loc='upper right',prop={'size': 14})\n",
    "plt.title(\"Distribution of number of recurrences grouped by treatment method\",size=15)\n",
    "plt.xticks(fontsize=14)\n",
    "plt.yticks(fontsize=14)\n",
    "plt.xlabel(\"Number of recurrences\",size=14)\n",
    "plt.ylabel(\"Count\",size=14)"
   ]
  },
  {
   "cell_type": "code",
   "execution_count": 19,
   "id": "fiscal-developer",
   "metadata": {},
   "outputs": [
    {
     "data": {
      "text/plain": [
       "Text(0, 0.5, 'Count')"
      ]
     },
     "execution_count": 19,
     "metadata": {},
     "output_type": "execute_result"
    },
    {
     "data": {
      "image/png": "[encoded data removed]",
      "text/plain": [
       "<Figure size 720x504 with 1 Axes>"
      ]
     },
     "metadata": {},
     "output_type": "display_data"
    }
   ],
   "source": [
    "sns.set(style=\"white\")\n",
    "plt.figure(figsize=(10,7))\n",
    "sns.countplot(data=first_group, x='No_of_recurrences',hue='treatment')\n",
    "plt.legend(loc='upper right',prop={'size': 14})\n",
    "plt.title(\"Distribution of number of recurrences grouped by treatment method\",size=15)\n",
    "plt.xticks(fontsize=14)\n",
    "plt.yticks(fontsize=14)\n",
    "plt.xlabel(\"Number of recurrences\",size=14)\n",
    "plt.ylabel(\"Count\",size=14)"
   ]
  },
  {
   "cell_type": "code",
   "execution_count": 20,
   "id": "211c8e88",
   "metadata": {
    "colab": {
     "base_uri": "https://localhost:8080/"
    },
    "id": "211c8e88",
    "outputId": "35140cb7-8096-41c5-a4f2-2c0c93eb7774"
   },
   "outputs": [
    {
     "data": {
      "text/plain": [
       "1    72\n",
       "2    14\n",
       "3    13\n",
       "4     7\n",
       "5     5\n",
       "8     5\n",
       "6     2\n",
       "Name: number, dtype: int64"
      ]
     },
     "execution_count": 20,
     "metadata": {},
     "output_type": "execute_result"
    }
   ],
   "source": [
    "# tumor number value counts\n",
    "\n",
    "first_group[\"number\"].value_counts()"
   ]
  },
  {
   "cell_type": "code",
   "execution_count": 21,
   "id": "laughing-navigation",
   "metadata": {},
   "outputs": [
    {
     "data": {
      "text/plain": [
       "Text(0.5, 0, 'Number of tumors')"
      ]
     },
     "execution_count": 21,
     "metadata": {},
     "output_type": "execute_result"
    },
    {
     "data": {
      "image/png": "[encoded data removed]",
      "text/plain": [
       "<Figure size 576x576 with 1 Axes>"
      ]
     },
     "metadata": {},
     "output_type": "display_data"
    }
   ],
   "source": [
    "plt.figure(figsize=(8,8))\n",
    "sns.set_theme(style='white')\n",
    "sns.histplot(x=\"number\",hue=\"treatment\",multiple=\"stack\",data=first_group,shrink=0.7)\n",
    "plt.title(\"Distribution of number of tumors\",size=15)\n",
    "plt.ylabel(\"Count\",size=13)\n",
    "plt.xlabel(\"Number of tumors\",size=13)"
   ]
  },
  {
   "cell_type": "code",
   "execution_count": 22,
   "id": "53134709",
   "metadata": {
    "colab": {
     "base_uri": "https://localhost:8080/"
    },
    "id": "53134709",
    "outputId": "40cf7307-a52f-45a4-c0c7-30f73840bf7c"
   },
   "outputs": [
    {
     "data": {
      "text/plain": [
       "1    69\n",
       "3    19\n",
       "2    14\n",
       "4     7\n",
       "6     4\n",
       "5     2\n",
       "7     2\n",
       "8     1\n",
       "Name: size, dtype: int64"
      ]
     },
     "execution_count": 22,
     "metadata": {},
     "output_type": "execute_result"
    }
   ],
   "source": [
    "# tumor size value counts\n",
    "\n",
    "first_group[\"size\"].value_counts()"
   ]
  },
  {
   "cell_type": "code",
   "execution_count": 23,
   "id": "complex-canon",
   "metadata": {},
   "outputs": [
    {
     "data": {
      "text/plain": [
       "Text(0.5, 0, 'Number of tumors')"
      ]
     },
     "execution_count": 23,
     "metadata": {},
     "output_type": "execute_result"
    },
    {
     "data": {
      "image/png": "[encoded data removed]",
      "text/plain": [
       "<Figure size 576x576 with 1 Axes>"
      ]
     },
     "metadata": {},
     "output_type": "display_data"
    }
   ],
   "source": [
    "plt.figure(figsize=(8,8))\n",
    "sns.set_theme(style='white')\n",
    "sns.histplot(x=\"size\",hue=\"treatment\",multiple=\"stack\",data=first_group,shrink=0.7)\n",
    "plt.title(\"Distribution of size of tumors\",size=15)\n",
    "plt.ylabel(\"Size\",size=13)\n",
    "plt.xlabel(\"Number of tumors\",size=13)"
   ]
  },
  {
   "cell_type": "code",
   "execution_count": 24,
   "id": "fuzzy-chapter",
   "metadata": {},
   "outputs": [
    {
     "data": {
      "text/plain": [
       "Text(0.5, 0, 'Time (months)')"
      ]
     },
     "execution_count": 24,
     "metadata": {},
     "output_type": "execute_result"
    },
    {
     "data": {
      "image/png": "[encoded data removed]",
      "text/plain": [
       "<Figure size 432x288 with 1 Axes>"
      ]
     },
     "metadata": {},
     "output_type": "display_data"
    }
   ],
   "source": [
    "# distribution of survival months over different treatments\n",
    "\n",
    "sns.kdeplot(data=first_group,x='time_to_first_event',hue='treatment',fill=True)\n",
    "plt.title(\"Kernel density for time to first event\")\n",
    "plt.xlabel('Time (months)')"
   ]
  },
  {
   "cell_type": "markdown",
   "id": "reliable-powell",
   "metadata": {},
   "source": [
    "## Kaplan Meyer estimator"
   ]
  },
  {
   "cell_type": "markdown",
   "id": "located-memorabilia",
   "metadata": {},
   "source": [
    "### 1. Grouped by treatment methods"
   ]
  },
  {
   "cell_type": "code",
   "execution_count": 25,
   "id": "driving-representative",
   "metadata": {},
   "outputs": [
    {
     "data": {
      "text/plain": [
       "Text(0, 0.5, 'Survival Probability')"
      ]
     },
     "execution_count": 25,
     "metadata": {},
     "output_type": "execute_result"
    },
    {
     "data": {
      "image/png": "[encoded data removed]",
      "text/plain": [
       "<Figure size 1080x576 with 1 Axes>"
      ]
     },
     "metadata": {},
     "output_type": "display_data"
    }
   ],
   "source": [
    "plt.figure(figsize=(15,8))\n",
    "\n",
    "ax1 = plt.subplot(111)\n",
    "\n",
    "kmf = KaplanMeierFitter()\n",
    "\n",
    "km_df1 = first_group.loc[:,[\"treatment\",\"time_to_first_event\",\"delta\"]]\n",
    "\n",
    "for trt in df[\"treatment\"].unique():    \n",
    "    flag = km_df1[\"treatment\"] == trt    \n",
    "    kmf.fit(km_df1[\"time_to_first_event\"][flag], event_observed=km_df1[\"delta\"][flag], label=trt)\n",
    "    kmf.plot(ax=ax1)\n",
    "plt.plot([0,60],[0.5,0.5],\"r--\",lw = 2.5)\n",
    "plt.legend(title=\"Ttreatment method\",loc=\"upper right\",prop={'size': 14})\n",
    "plt.title('Estimated survival functions grouped by treatment method',size=15)\n",
    "plt.xticks(fontsize=14)\n",
    "plt.yticks(fontsize=14)\n",
    "plt.xlabel('Time (months)',size=14)\n",
    "plt.ylabel('Survival Probability',size=14)"
   ]
  },
  {
   "cell_type": "code",
   "execution_count": 26,
   "id": "threatened-mystery",
   "metadata": {},
   "outputs": [],
   "source": [
    "# log-rank test\n",
    "\n",
    "def print_logrank(col):\n",
    "  log_rank = pairwise_logrank_test(km_df1['time_to_first_event'], km_df1[col], km_df1['delta'])\n",
    "  return log_rank.summary"
   ]
  },
  {
   "cell_type": "code",
   "execution_count": 27,
   "id": "grateful-registration",
   "metadata": {},
   "outputs": [
    {
     "data": {
      "text/html": [
       "<div>\n",
       "<style scoped>\n",
       "    .dataframe tbody tr th:only-of-type {\n",
       "        vertical-align: middle;\n",
       "    }\n",
       "\n",
       "    .dataframe tbody tr th {\n",
       "        vertical-align: top;\n",
       "    }\n",
       "\n",
       "    .dataframe thead th {\n",
       "        text-align: right;\n",
       "    }\n",
       "</style>\n",
       "<table border=\"1\" class=\"dataframe\">\n",
       "  <thead>\n",
       "    <tr style=\"text-align: right;\">\n",
       "      <th></th>\n",
       "      <th></th>\n",
       "      <th>test_statistic</th>\n",
       "      <th>p</th>\n",
       "      <th>-log2(p)</th>\n",
       "    </tr>\n",
       "  </thead>\n",
       "  <tbody>\n",
       "    <tr>\n",
       "      <th rowspan=\"2\" valign=\"top\">placebo</th>\n",
       "      <th>pyridoxine</th>\n",
       "      <td>1.326279</td>\n",
       "      <td>0.249468</td>\n",
       "      <td>2.003072</td>\n",
       "    </tr>\n",
       "    <tr>\n",
       "      <th>thiotepa</th>\n",
       "      <td>1.520945</td>\n",
       "      <td>0.217477</td>\n",
       "      <td>2.201068</td>\n",
       "    </tr>\n",
       "    <tr>\n",
       "      <th>pyridoxine</th>\n",
       "      <th>thiotepa</th>\n",
       "      <td>0.001407</td>\n",
       "      <td>0.970077</td>\n",
       "      <td>0.043828</td>\n",
       "    </tr>\n",
       "  </tbody>\n",
       "</table>\n",
       "</div>"
      ],
      "text/plain": [
       "                       test_statistic         p  -log2(p)\n",
       "placebo    pyridoxine        1.326279  0.249468  2.003072\n",
       "           thiotepa          1.520945  0.217477  2.201068\n",
       "pyridoxine thiotepa          0.001407  0.970077  0.043828"
      ]
     },
     "execution_count": 27,
     "metadata": {},
     "output_type": "execute_result"
    }
   ],
   "source": [
    "print_logrank(\"treatment\")"
   ]
  },
  {
   "cell_type": "markdown",
   "id": "psychological-albania",
   "metadata": {},
   "source": [
    "## Thresholding on number of tumours"
   ]
  },
  {
   "cell_type": "code",
   "execution_count": 28,
   "id": "duplicate-onion",
   "metadata": {},
   "outputs": [],
   "source": [
    "def thresh(col,x):\n",
    "    df = first_group.loc[:,[col,\"time_to_first_event\",\"delta\"]]\n",
    "    df[f\"thresh_{col}_tumour\"] = [0 if i < x else 1 for i in first_group.loc[:,col]]\n",
    "    return df"
   ]
  },
  {
   "cell_type": "code",
   "execution_count": 29,
   "id": "hearing-statistics",
   "metadata": {},
   "outputs": [
    {
     "data": {
      "text/html": [
       "<div>\n",
       "<style scoped>\n",
       "    .dataframe tbody tr th:only-of-type {\n",
       "        vertical-align: middle;\n",
       "    }\n",
       "\n",
       "    .dataframe tbody tr th {\n",
       "        vertical-align: top;\n",
       "    }\n",
       "\n",
       "    .dataframe thead th {\n",
       "        text-align: right;\n",
       "    }\n",
       "</style>\n",
       "<table border=\"1\" class=\"dataframe\">\n",
       "  <thead>\n",
       "    <tr style=\"text-align: right;\">\n",
       "      <th></th>\n",
       "      <th>number</th>\n",
       "      <th>time_to_first_event</th>\n",
       "      <th>delta</th>\n",
       "      <th>thresh_number_tumour</th>\n",
       "    </tr>\n",
       "  </thead>\n",
       "  <tbody>\n",
       "    <tr>\n",
       "      <th>0</th>\n",
       "      <td>1</td>\n",
       "      <td>0</td>\n",
       "      <td>0</td>\n",
       "      <td>0</td>\n",
       "    </tr>\n",
       "    <tr>\n",
       "      <th>1</th>\n",
       "      <td>1</td>\n",
       "      <td>1</td>\n",
       "      <td>0</td>\n",
       "      <td>0</td>\n",
       "    </tr>\n",
       "    <tr>\n",
       "      <th>2</th>\n",
       "      <td>2</td>\n",
       "      <td>4</td>\n",
       "      <td>0</td>\n",
       "      <td>0</td>\n",
       "    </tr>\n",
       "    <tr>\n",
       "      <th>3</th>\n",
       "      <td>1</td>\n",
       "      <td>7</td>\n",
       "      <td>0</td>\n",
       "      <td>0</td>\n",
       "    </tr>\n",
       "    <tr>\n",
       "      <th>4</th>\n",
       "      <td>5</td>\n",
       "      <td>10</td>\n",
       "      <td>0</td>\n",
       "      <td>1</td>\n",
       "    </tr>\n",
       "    <tr>\n",
       "      <th>...</th>\n",
       "      <td>...</td>\n",
       "      <td>...</td>\n",
       "      <td>...</td>\n",
       "      <td>...</td>\n",
       "    </tr>\n",
       "    <tr>\n",
       "      <th>113</th>\n",
       "      <td>1</td>\n",
       "      <td>50</td>\n",
       "      <td>0</td>\n",
       "      <td>0</td>\n",
       "    </tr>\n",
       "    <tr>\n",
       "      <th>114</th>\n",
       "      <td>4</td>\n",
       "      <td>4</td>\n",
       "      <td>1</td>\n",
       "      <td>1</td>\n",
       "    </tr>\n",
       "    <tr>\n",
       "      <th>115</th>\n",
       "      <td>3</td>\n",
       "      <td>54</td>\n",
       "      <td>0</td>\n",
       "      <td>0</td>\n",
       "    </tr>\n",
       "    <tr>\n",
       "      <th>116</th>\n",
       "      <td>2</td>\n",
       "      <td>38</td>\n",
       "      <td>1</td>\n",
       "      <td>0</td>\n",
       "    </tr>\n",
       "    <tr>\n",
       "      <th>117</th>\n",
       "      <td>1</td>\n",
       "      <td>59</td>\n",
       "      <td>0</td>\n",
       "      <td>0</td>\n",
       "    </tr>\n",
       "  </tbody>\n",
       "</table>\n",
       "<p>118 rows × 4 columns</p>\n",
       "</div>"
      ],
      "text/plain": [
       "    number  time_to_first_event  delta  thresh_number_tumour\n",
       "0        1                    0      0                     0\n",
       "1        1                    1      0                     0\n",
       "2        2                    4      0                     0\n",
       "3        1                    7      0                     0\n",
       "4        5                   10      0                     1\n",
       "..     ...                  ...    ...                   ...\n",
       "113      1                   50      0                     0\n",
       "114      4                    4      1                     1\n",
       "115      3                   54      0                     0\n",
       "116      2                   38      1                     0\n",
       "117      1                   59      0                     0\n",
       "\n",
       "[118 rows x 4 columns]"
      ]
     },
     "execution_count": 29,
     "metadata": {},
     "output_type": "execute_result"
    }
   ],
   "source": [
    "thresh(\"number\",4)"
   ]
  },
  {
   "cell_type": "code",
   "execution_count": 30,
   "id": "seventh-width",
   "metadata": {},
   "outputs": [
    {
     "data": {
      "text/plain": [
       "0    99\n",
       "1    19\n",
       "Name: thresh_number_tumour, dtype: int64"
      ]
     },
     "execution_count": 30,
     "metadata": {},
     "output_type": "execute_result"
    }
   ],
   "source": [
    "thresh(\"number\",4).thresh_number_tumour.value_counts()"
   ]
  },
  {
   "cell_type": "code",
   "execution_count": 31,
   "id": "configured-conservation",
   "metadata": {},
   "outputs": [],
   "source": [
    "def logrank_thresh(col,x):\n",
    "    y = thresh(col,x)\n",
    "    log_rank = pairwise_logrank_test(y['time_to_first_event'], y[f'thresh_{col}_tumour'], y['delta'])\n",
    "    return log_rank.summary"
   ]
  },
  {
   "cell_type": "code",
   "execution_count": 32,
   "id": "iraqi-economy",
   "metadata": {},
   "outputs": [
    {
     "name": "stdout",
     "output_type": "stream",
     "text": [
      "p-value when threshold on number of tumours is 2 : 0.0017939330834322697\n",
      "p-value when threshold on number of tumours is 3 : 0.007020162822710038\n",
      "p-value when threshold on number of tumours is 4 : 0.0002594167683235225\n",
      "p-value when threshold on number of tumours is 5 : 0.0026688648730418267\n",
      "p-value when threshold on number of tumours is 6 : 0.0010422478423726767\n",
      "p-value when threshold on number of tumours is 7 : 0.02283357735020892\n",
      "p-value when threshold on number of tumours is 8 : 0.02283357735020892\n"
     ]
    }
   ],
   "source": [
    "for i in range(2,9):\n",
    "    print(\"p-value when threshold on number of tumours is {} : {}\".format(i,logrank_thresh(\"number\",i)['p'].values[0]))"
   ]
  },
  {
   "cell_type": "markdown",
   "id": "grateful-process",
   "metadata": {},
   "source": [
    "### 2. Grouped by thresholded number of tumours"
   ]
  },
  {
   "cell_type": "code",
   "execution_count": 33,
   "id": "studied-parking",
   "metadata": {},
   "outputs": [
    {
     "data": {
      "text/plain": [
       "Text(0, 0.5, 'Survival Probability')"
      ]
     },
     "execution_count": 33,
     "metadata": {},
     "output_type": "execute_result"
    },
    {
     "data": {
      "image/png": "[encoded data removed]",
      "text/plain": [
       "<Figure size 1080x576 with 1 Axes>"
      ]
     },
     "metadata": {},
     "output_type": "display_data"
    }
   ],
   "source": [
    "plt.figure(figsize=(15,8))\n",
    "\n",
    "ax1 = plt.subplot(111)\n",
    "\n",
    "kmf = KaplanMeierFitter()\n",
    "\n",
    "km_df_thresh = thresh(\"number\",4).loc[:,[\"thresh_number_tumour\",\"time_to_first_event\",\"delta\"]]\n",
    "\n",
    "for num in km_df_thresh[\"thresh_number_tumour\"].unique():    \n",
    "    flag = km_df_thresh[\"thresh_number_tumour\"] == num    \n",
    "    kmf.fit(km_df_thresh[\"time_to_first_event\"][flag], event_observed=km_df_thresh[\"delta\"][flag], label=num)\n",
    "    kmf.plot(ax=ax1)\n",
    "plt.plot([0,60],[0.5,0.5],\"r--\",lw = 2)\n",
    "plt.legend(['< 4','>= 4'],title=\"Number of tumours\",loc=\"upper right\",prop={'size': 14})\n",
    "plt.title('Estimated survival functions grouped by thresholded number of tumours',size=15)\n",
    "plt.xticks(fontsize=14)\n",
    "plt.yticks(fontsize=14)\n",
    "plt.xlabel('Time (months)',size=14)\n",
    "plt.ylabel('Survival Probability',size=14)"
   ]
  },
  {
   "cell_type": "markdown",
   "id": "authentic-gallery",
   "metadata": {},
   "source": [
    "# Thresholding on size of tumours"
   ]
  },
  {
   "cell_type": "code",
   "execution_count": 34,
   "id": "classified-friend",
   "metadata": {},
   "outputs": [
    {
     "data": {
      "text/html": [
       "<div>\n",
       "<style scoped>\n",
       "    .dataframe tbody tr th:only-of-type {\n",
       "        vertical-align: middle;\n",
       "    }\n",
       "\n",
       "    .dataframe tbody tr th {\n",
       "        vertical-align: top;\n",
       "    }\n",
       "\n",
       "    .dataframe thead th {\n",
       "        text-align: right;\n",
       "    }\n",
       "</style>\n",
       "<table border=\"1\" class=\"dataframe\">\n",
       "  <thead>\n",
       "    <tr style=\"text-align: right;\">\n",
       "      <th></th>\n",
       "      <th>size</th>\n",
       "      <th>time_to_first_event</th>\n",
       "      <th>delta</th>\n",
       "      <th>thresh_size_tumour</th>\n",
       "    </tr>\n",
       "  </thead>\n",
       "  <tbody>\n",
       "    <tr>\n",
       "      <th>0</th>\n",
       "      <td>1</td>\n",
       "      <td>0</td>\n",
       "      <td>0</td>\n",
       "      <td>0</td>\n",
       "    </tr>\n",
       "    <tr>\n",
       "      <th>1</th>\n",
       "      <td>3</td>\n",
       "      <td>1</td>\n",
       "      <td>0</td>\n",
       "      <td>1</td>\n",
       "    </tr>\n",
       "    <tr>\n",
       "      <th>2</th>\n",
       "      <td>1</td>\n",
       "      <td>4</td>\n",
       "      <td>0</td>\n",
       "      <td>0</td>\n",
       "    </tr>\n",
       "    <tr>\n",
       "      <th>3</th>\n",
       "      <td>1</td>\n",
       "      <td>7</td>\n",
       "      <td>0</td>\n",
       "      <td>0</td>\n",
       "    </tr>\n",
       "    <tr>\n",
       "      <th>4</th>\n",
       "      <td>1</td>\n",
       "      <td>10</td>\n",
       "      <td>0</td>\n",
       "      <td>0</td>\n",
       "    </tr>\n",
       "    <tr>\n",
       "      <th>...</th>\n",
       "      <td>...</td>\n",
       "      <td>...</td>\n",
       "      <td>...</td>\n",
       "      <td>...</td>\n",
       "    </tr>\n",
       "    <tr>\n",
       "      <th>113</th>\n",
       "      <td>1</td>\n",
       "      <td>50</td>\n",
       "      <td>0</td>\n",
       "      <td>0</td>\n",
       "    </tr>\n",
       "    <tr>\n",
       "      <th>114</th>\n",
       "      <td>1</td>\n",
       "      <td>4</td>\n",
       "      <td>1</td>\n",
       "      <td>0</td>\n",
       "    </tr>\n",
       "    <tr>\n",
       "      <th>115</th>\n",
       "      <td>4</td>\n",
       "      <td>54</td>\n",
       "      <td>0</td>\n",
       "      <td>1</td>\n",
       "    </tr>\n",
       "    <tr>\n",
       "      <th>116</th>\n",
       "      <td>1</td>\n",
       "      <td>38</td>\n",
       "      <td>1</td>\n",
       "      <td>0</td>\n",
       "    </tr>\n",
       "    <tr>\n",
       "      <th>117</th>\n",
       "      <td>3</td>\n",
       "      <td>59</td>\n",
       "      <td>0</td>\n",
       "      <td>1</td>\n",
       "    </tr>\n",
       "  </tbody>\n",
       "</table>\n",
       "<p>118 rows × 4 columns</p>\n",
       "</div>"
      ],
      "text/plain": [
       "    size  time_to_first_event  delta  thresh_size_tumour\n",
       "0      1                    0      0                   0\n",
       "1      3                    1      0                   1\n",
       "2      1                    4      0                   0\n",
       "3      1                    7      0                   0\n",
       "4      1                   10      0                   0\n",
       "..   ...                  ...    ...                 ...\n",
       "113    1                   50      0                   0\n",
       "114    1                    4      1                   0\n",
       "115    4                   54      0                   1\n",
       "116    1                   38      1                   0\n",
       "117    3                   59      0                   1\n",
       "\n",
       "[118 rows x 4 columns]"
      ]
     },
     "execution_count": 34,
     "metadata": {},
     "output_type": "execute_result"
    }
   ],
   "source": [
    "thresh(\"size\",2)"
   ]
  },
  {
   "cell_type": "code",
   "execution_count": 35,
   "id": "difficult-magnet",
   "metadata": {},
   "outputs": [
    {
     "data": {
      "text/plain": [
       "0    111\n",
       "1      7\n",
       "Name: thresh_size_tumour, dtype: int64"
      ]
     },
     "execution_count": 35,
     "metadata": {},
     "output_type": "execute_result"
    }
   ],
   "source": [
    "thresh(\"size\",6).thresh_size_tumour.value_counts()"
   ]
  },
  {
   "cell_type": "code",
   "execution_count": 36,
   "id": "placed-repository",
   "metadata": {},
   "outputs": [
    {
     "name": "stdout",
     "output_type": "stream",
     "text": [
      "p-value when threshold on size of tumours is 2 : 0.5199524395300987\n",
      "p-value when threshold on size of tumours is 3 : 0.3024758137141664\n",
      "p-value when threshold on size of tumours is 4 : 0.23865366312441283\n",
      "p-value when threshold on size of tumours is 5 : 0.1682752207760559\n",
      "p-value when threshold on size of tumours is 6 : 0.1570410142894633\n",
      "p-value when threshold on size of tumours is 7 : 0.9146316972988796\n",
      "p-value when threshold on size of tumours is 8 : 0.3025414266710924\n"
     ]
    }
   ],
   "source": [
    "for i in range(2,9):\n",
    "    print(\"p-value when threshold on size of tumours is {} : {}\".format(i,logrank_thresh(\"size\",i)['p'].values[0]))"
   ]
  },
  {
   "cell_type": "markdown",
   "id": "lightweight-integral",
   "metadata": {},
   "source": [
    "### 3. Grouped by thresholded size of tumours"
   ]
  },
  {
   "cell_type": "code",
   "execution_count": 44,
   "id": "generic-drilling",
   "metadata": {
    "scrolled": true
   },
   "outputs": [
    {
     "data": {
      "text/plain": [
       "Text(0, 0.5, 'Survival Probability')"
      ]
     },
     "execution_count": 44,
     "metadata": {},
     "output_type": "execute_result"
    },
    {
     "data": {
      "image/png": "[encoded data removed]",
      "text/plain": [
       "<Figure size 1080x576 with 1 Axes>"
      ]
     },
     "metadata": {
      "needs_background": "light"
     },
     "output_type": "display_data"
    }
   ],
   "source": [
    "plt.figure(figsize=(15,8))\n",
    "\n",
    "ax1 = plt.subplot(111)\n",
    "\n",
    "kmf = KaplanMeierFitter()\n",
    "\n",
    "km_df_thresh = thresh(\"size\",4).loc[:,[\"thresh_size_tumour\",\"time_to_first_event\",\"delta\"]]\n",
    "\n",
    "for size in km_df_thresh[\"thresh_size_tumour\"].unique():    \n",
    "    flag = km_df_thresh[\"thresh_size_tumour\"] == size    \n",
    "    kmf.fit(km_df_thresh[\"time_to_first_event\"][flag], event_observed=km_df_thresh[\"delta\"][flag], label=size)\n",
    "    kmf.plot(ax=ax1)\n",
    "plt.plot([0,60],[0.5,0.5],\"r--\",lw = 2)\n",
    "plt.legend(['< 6','>= 6'],title=\"Size of tumours\",loc=\"upper right\",prop={'size': 14})\n",
    "plt.title('Estimated survival functions grouped by thresholded size of tumours',size=15)\n",
    "plt.xticks(fontsize=14)\n",
    "plt.yticks(fontsize=14)\n",
    "plt.xlabel('Time (months)',size=14)\n",
    "plt.ylabel('Survival Probability',size=14)"
   ]
  },
  {
   "cell_type": "markdown",
   "id": "disciplinary-quest",
   "metadata": {},
   "source": [
    "## Nelson Aalen estimator"
   ]
  },
  {
   "cell_type": "code",
   "execution_count": 38,
   "id": "compound-trunk",
   "metadata": {},
   "outputs": [
    {
     "data": {
      "text/plain": [
       "Text(0.5, 1.0, 'Hazard functions by treatment method')"
      ]
     },
     "execution_count": 38,
     "metadata": {},
     "output_type": "execute_result"
    },
    {
     "data": {
      "image/png": "[encoded data removed]",
      "text/plain": [
       "<Figure size 1080x576 with 2 Axes>"
      ]
     },
     "metadata": {},
     "output_type": "display_data"
    }
   ],
   "source": [
    "plt.figure(figsize=(15,8))\n",
    "\n",
    "ax1 = plt.subplot(121)\n",
    "\n",
    "naf = NelsonAalenFitter()\n",
    "\n",
    "na_df1 = first_group.loc[:,[\"treatment\",\"time_to_first_event\",\"delta\"]]\n",
    "\n",
    "for trt in df[\"treatment\"].unique():    \n",
    "    flag = na_df1[\"treatment\"] == trt    \n",
    "    naf.fit(na_df1[\"time_to_first_event\"][flag], event_observed=na_df1[\"delta\"][flag], label=trt)\n",
    "    naf.plot(ax=ax1)\n",
    "plt.plot([0,60],[0.5,0.5],\"r--\")\n",
    "plt.legend(loc=\"upper left\")\n",
    "plt.title('Cumulative hazard functions by treatment method')\n",
    "\n",
    "ax2 = plt.subplot(122)\n",
    "\n",
    "naf = NelsonAalenFitter()\n",
    "\n",
    "na_df1 = first_group.loc[:,[\"treatment\",\"time_to_first_event\",\"delta\"]]\n",
    "\n",
    "for trt in df[\"treatment\"].unique():    \n",
    "    flag = na_df1[\"treatment\"] == trt    \n",
    "    naf.fit(na_df1[\"time_to_first_event\"][flag], event_observed=na_df1[\"delta\"][flag], label=trt)\n",
    "    naf.plot_hazard(bandwidth=2, ax=ax2)\n",
    "\n",
    "plt.legend(loc=\"upper left\")\n",
    "plt.title('Hazard functions by treatment method')"
   ]
  },
  {
   "cell_type": "code",
   "execution_count": null,
   "id": "brave-straight",
   "metadata": {},
   "outputs": [],
   "source": []
  }
 ],
 "metadata": {
  "colab": {
   "name": "EDA_fair.ipynb",
   "provenance": []
  },
  "kernelspec": {
   "display_name": "Python 3",
   "language": "python",
   "name": "python3"
  },
  "language_info": {
   "codemirror_mode": {
    "name": "ipython",
    "version": 3
   },
   "file_extension": ".py",
   "mimetype": "text/x-python",
   "name": "python",
   "nbconvert_exporter": "python",
   "pygments_lexer": "ipython3",
   "version": "3.8.10"
  }
 },
 "nbformat": 4,
 "nbformat_minor": 5
}
